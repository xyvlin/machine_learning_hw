{
  "nbformat": 4,
  "nbformat_minor": 0,
  "metadata": {
    "colab": {
      "provenance": [],
      "authorship_tag": "ABX9TyMXcwGVognIzTVSw3X0OSbe",
      "include_colab_link": true
    },
    "kernelspec": {
      "name": "python3",
      "display_name": "Python 3"
    },
    "language_info": {
      "name": "python"
    }
  },
  "cells": [
    {
      "cell_type": "markdown",
      "metadata": {
        "id": "view-in-github",
        "colab_type": "text"
      },
      "source": [
        "<a href=\"https://colab.research.google.com/github/xyvlin/machine_learning_hw/blob/main/neuralnetwork.ipynb\" target=\"_parent\"><img src=\"https://colab.research.google.com/assets/colab-badge.svg\" alt=\"Open In Colab\"/></a>"
      ]
    },
    {
      "cell_type": "code",
      "source": [
        "import numpy as np"
      ],
      "metadata": {
        "id": "Lin7e4jFAUNE"
      },
      "execution_count": null,
      "outputs": []
    },
    {
      "cell_type": "code",
      "execution_count": null,
      "metadata": {
        "id": "9p7cVqZb9_SN"
      },
      "outputs": [],
      "source": [
        "x=[0.05,0.10]\n",
        "t=[0.01,0.99]\n",
        "\n",
        "w1=[[0.15,0.2],[0.25,0.3]]\n",
        "w2=[[0.4,0.45],[0.5,0.55]]\n",
        "\n",
        "b1=[0.35,0.35]\n",
        "b2=[0.6,0.6]"
      ]
    },
    {
      "cell_type": "code",
      "source": [
        "def sig(z):\n",
        "  return 1/(1+np.exp(-z))\n",
        "def desig(z):\n",
        "  return sig(z)*(1-sig(z))"
      ],
      "metadata": {
        "id": "njvVCQaXBrux"
      },
      "execution_count": null,
      "outputs": []
    },
    {
      "cell_type": "code",
      "source": [
        "z1 = np.dot(w1,x)+b1\n",
        "h1 = sig(z1)\n",
        "z2 = np.dot(w2,h1)+b2\n",
        "y = sig(z2)\n",
        "L = 0.5*np.sum((y-t)**2)"
      ],
      "metadata": {
        "id": "hpWMxC5z-L_w"
      },
      "execution_count": null,
      "outputs": []
    },
    {
      "cell_type": "markdown",
      "source": [
        "\\begin{align}\n",
        "  \\frac{\\partial \\mathcal{L}}{\\partial y}\n",
        "  &= y - t\n",
        "  \\\\\\\\\n",
        "  \\frac{\\partial \\mathcal{L}}{\\partial z^{(2)}}\n",
        "  &= \\frac{\\partial \\mathcal{L}}{\\partial y}\\cdot \\frac{\\partial y}{\\partial z^{(2)}} \\\\\n",
        "  &= (y - t) \\cdot \\sigma'(z^{(2)}) \\\\\n",
        "  &= (y - t) \\cdot \\sigma(z^{(2)})(1-\\sigma(z^{(2)}))\n",
        "  \\\\\\\\\n",
        "  \\frac{\\partial \\mathcal{L}}{\\partial w^{(2)}} &= \\frac{\\partial \\mathcal{L}}{\\partial z^{(2)}} \\cdot \\frac{\\partial z^{(2)}}{\\partial w^{(2)}}\\\\\n",
        "  &= \\frac{\\partial \\mathcal{L}}{\\partial z^{(2)}} \\cdot h^{(1)}\\\\\n",
        "  &=(y - t) \\cdot \\sigma'(z^{(2)}) \\\\\n",
        "  &= (y - t) \\cdot \\sigma(z^{(2)})(1-\\sigma(z^{(2)}))\\cdot h^{(1)}\n",
        "  \\\\\\\\\n",
        "  \\frac{\\partial \\mathcal{L}}{\\partial h^{(1)}} &= \\frac{\\partial \\mathcal{L}}{\\partial z^{(2)}} \\cdot \\frac{\\partial z^{(2)}}{\\partial h^{(1)}} \\\\\n",
        "  &= (y - t) \\cdot \\sigma(z^{(2)})(1-\\sigma(z^{(2)})) \\cdot w^{(2)}\n",
        "  \\\\\\\\\n",
        "  \\frac{\\partial \\mathcal{L}}{\\partial z^{(1)}} &= \\frac{\\partial \\mathcal{L}}{\\partial h^{(1)}} \\cdot \\frac{\\partial h^{(1)}}{\\partial z^{(1)}}\\\\\n",
        "  &=\\frac{\\partial \\mathcal{L}}{\\partial h^{(1)}} \\cdot \\sigma(z^{(1)})(1-\\sigma(z^{(1)}))\\\\\n",
        "  &= (y - t) \\cdot \\sigma(z^{(2)})(1-\\sigma(z^{(2)})) \\cdot w^{(2)}\\cdot \\sigma(z^{(1)})(1-\\sigma(z^{(1)}))\n",
        "  \\\\\\\\\n",
        "  \\frac{\\partial \\mathcal{L}}{\\partial w^{(1)}} &= \\frac{\\partial \\mathcal{L}}{\\partial z^{(1)}} \\cdot \\frac{\\partial z^{(1)}}{\\partial w^{(1)}}\\\\\n",
        "  &= (y - t) \\cdot \\sigma(z^{(2)})(1-\\sigma(z^{(2)})) \\cdot w^{(2)}\\cdot \\sigma(z^{(1)})(1-\\sigma(z^{(1)})) \\cdot x\n",
        "\\end{align}"
      ],
      "metadata": {
        "id": "6Jwk_h5j3Efv"
      }
    },
    {
      "cell_type": "code",
      "source": [
        "dy = y-t\n",
        "dz2 = dy * desig(z2)\n",
        "dw2 = dz2 * h1\n",
        "dh1 = np.dot(dz2.T,w2)\n",
        "dz1 = dh1 * desig(z1)\n",
        "dw1 = dz1 * x"
      ],
      "metadata": {
        "id": "lQebsbi1CXLI"
      },
      "execution_count": null,
      "outputs": []
    },
    {
      "cell_type": "code",
      "source": [
        "update_w1 = w1 - 0.5*dw1\n",
        "update_w2 = w2 - 0.5*dw2"
      ],
      "metadata": {
        "id": "E3Z95ZP2QAfM"
      },
      "execution_count": null,
      "outputs": []
    },
    {
      "cell_type": "code",
      "source": [
        "np.round(update_w1,4)"
      ],
      "metadata": {
        "colab": {
          "base_uri": "https://localhost:8080/"
        },
        "id": "F4gTD3Z_QIs8",
        "outputId": "699baf13-337a-4869-d087-d0eeef44d6d4"
      },
      "execution_count": null,
      "outputs": [
        {
          "output_type": "execute_result",
          "data": {
            "text/plain": [
              "array([[0.1498, 0.1995],\n",
              "       [0.2498, 0.2995]])"
            ]
          },
          "metadata": {},
          "execution_count": 10
        }
      ]
    },
    {
      "cell_type": "code",
      "source": [
        "print(\"Results: \")\n",
        "print(f\"w^(1)[1,1] = {np.round(update_w1,4)[0,0]}\")\n",
        "print(f\"w^(2)[1,1] = {np.round(update_w2,4)[0,0]}\")"
      ],
      "metadata": {
        "colab": {
          "base_uri": "https://localhost:8080/"
        },
        "id": "RF9xKkXPQTgU",
        "outputId": "82ad8ea8-a7d4-41ba-da40-a7506181be73"
      },
      "execution_count": null,
      "outputs": [
        {
          "output_type": "stream",
          "name": "stdout",
          "text": [
            "Results: \n",
            "w^(1)[1,1] = 0.1498\n",
            "w^(2)[1,1] = 0.3589\n"
          ]
        }
      ]
    }
  ]
}